{
  "nbformat": 4,
  "nbformat_minor": 0,
  "metadata": {
    "colab": {
      "provenance": []
    },
    "kernelspec": {
      "name": "python3",
      "display_name": "Python 3"
    },
    "language_info": {
      "name": "python"
    }
  },
  "cells": [
    {
      "cell_type": "code",
      "execution_count": 1,
      "metadata": {
        "colab": {
          "base_uri": "https://localhost:8080/"
        },
        "id": "du772VQuNNj0",
        "outputId": "de76af76-cd44-4fe2-ed59-1850de36a1b6"
      },
      "outputs": [
        {
          "output_type": "stream",
          "name": "stdout",
          "text": [
            "Linked list before deletion:\n",
            "10 -> 20 -> 30 -> 40 -> None\n",
            "Linked list after deleting node at index 2:\n",
            "10 -> 30 -> 40 -> None\n",
            "Error: Index out of range.\n",
            "Error: Index should be 1 or greater.\n",
            "Error: Cannot delete from an empty list.\n"
          ]
        }
      ],
      "source": [
        "class Node:\n",
        "    def __init__(self, data):\n",
        "        self.data = data\n",
        "        self.next = None\n",
        "\n",
        "class LinkedList:\n",
        "    def __init__(self):\n",
        "        self.head = None\n",
        "\n",
        "    def add_node(self, data):\n",
        "        new_node = Node(data)\n",
        "        if not self.head:\n",
        "            self.head = new_node\n",
        "        else:\n",
        "            temp = self.head\n",
        "            while temp.next:\n",
        "                temp = temp.next\n",
        "            temp.next = new_node\n",
        "\n",
        "    def print_list(self):\n",
        "        if not self.head:\n",
        "            print(\"The list is empty.\")\n",
        "            return\n",
        "        temp = self.head\n",
        "        while temp:\n",
        "            print(temp.data, end=\" -> \")\n",
        "            temp = temp.next\n",
        "        print(\"None\")\n",
        "\n",
        "    def delete_node(self, n):\n",
        "        if not self.head:\n",
        "            print(\"Error: Cannot delete from an empty list.\")\n",
        "            return\n",
        "\n",
        "        if n < 1:\n",
        "            print(\"Error: Index should be 1 or greater.\")\n",
        "            return\n",
        "\n",
        "        temp = self.head\n",
        "\n",
        "        if n == 1:\n",
        "            self.head = temp.next\n",
        "            del temp\n",
        "            return\n",
        "\n",
        "        prev = None\n",
        "        for _ in range(n - 1):\n",
        "            prev = temp\n",
        "            temp = temp.next\n",
        "            if not temp:\n",
        "                print(\"Error: Index out of range.\")\n",
        "                return\n",
        "\n",
        "        prev.next = temp.next\n",
        "        del temp\n",
        "\n",
        "linked_list = LinkedList()\n",
        "linked_list.add_node(10)\n",
        "linked_list.add_node(20)\n",
        "linked_list.add_node(30)\n",
        "linked_list.add_node(40)\n",
        "\n",
        "print(\"Linked list before deletion:\")\n",
        "linked_list.print_list()\n",
        "\n",
        "linked_list.delete_node(2)\n",
        "\n",
        "print(\"Linked list after deleting node at index 2:\")\n",
        "linked_list.print_list()\n",
        "\n",
        "# Edge case tests\n",
        "linked_list.delete_node(5)\n",
        "linked_list.delete_node(0)\n",
        "empty_list = LinkedList()\n",
        "empty_list.delete_node(1)"
      ]
    }
  ]
}