{
 "cells": [
  {
   "cell_type": "code",
   "execution_count": 1,
   "id": "c0d9babf",
   "metadata": {
    "_cell_guid": "b1076dfc-b9ad-4769-8c92-a6c4dae69d19",
    "_uuid": "8f2839f25d086af736a60e9eeb907d3b93b6e0e5",
    "execution": {
     "iopub.execute_input": "2025-06-04T04:10:06.835062Z",
     "iopub.status.busy": "2025-06-04T04:10:06.834751Z",
     "iopub.status.idle": "2025-06-04T04:11:02.296571Z",
     "shell.execute_reply": "2025-06-04T04:11:02.295537Z"
    },
    "papermill": {
     "duration": 55.466705,
     "end_time": "2025-06-04T04:11:02.298314",
     "exception": false,
     "start_time": "2025-06-04T04:10:06.831609",
     "status": "completed"
    },
    "tags": []
   },
   "outputs": [
    {
     "data": {
      "text/plain": [
       "('CLV_Prediction.csv', 1600.5434980802222)"
      ]
     },
     "execution_count": 1,
     "metadata": {},
     "output_type": "execute_result"
    }
   ],
   "source": [
    "import pandas as pd\n",
    "import numpy as np\n",
    "from sklearn.model_selection import train_test_split\n",
    "from sklearn.ensemble import GradientBoostingRegressor\n",
    "from sklearn.metrics import mean_absolute_error\n",
    "\n",
    "# Load the data\n",
    "data_path = \"/kaggle/input/online-retail-dataset/online_retail_II.xlsx\"\n",
    "data = pd.read_excel(data_path)\n",
    "\n",
    "# Data preprocessing\n",
    "data.dropna(subset=['Customer ID'], inplace=True)\n",
    "data = data[~data['Invoice'].astype(str).str.startswith('C')]\n",
    "data['TotalPrice'] = data['Quantity'] * data['Price']\n",
    "\n",
    "# Set reference date\n",
    "latest_date = data['InvoiceDate'].max()\n",
    "\n",
    "# RFM Calculation\n",
    "rfm = data.groupby('Customer ID').agg({\n",
    "    'InvoiceDate': lambda x: (latest_date - x.max()).days,\n",
    "    'Invoice': 'nunique',\n",
    "    'TotalPrice': 'sum'\n",
    "}).reset_index()\n",
    "\n",
    "rfm.columns = ['Customer ID', 'Recency', 'Frequency', 'Monetary']\n",
    "\n",
    "# Add Customer Tenure\n",
    "customer_first_purchase = data.groupby('Customer ID')['InvoiceDate'].min().reset_index()\n",
    "customer_first_purchase.columns = ['Customer ID', 'FirstPurchaseDate']\n",
    "rfm = rfm.merge(customer_first_purchase, on='Customer ID')\n",
    "rfm['Tenure'] = (latest_date - rfm['FirstPurchaseDate']).dt.days\n",
    "\n",
    "# Use Monetary as target for future value approximation\n",
    "X = rfm[['Recency', 'Frequency', 'Tenure']]\n",
    "y = rfm['Monetary']\n",
    "\n",
    "# Train-test split\n",
    "X_train, X_test, y_train, y_test = train_test_split(X, y, test_size=0.2, random_state=42)\n",
    "\n",
    "# Model training\n",
    "model = GradientBoostingRegressor()\n",
    "model.fit(X_train, y_train)\n",
    "\n",
    "# Prediction\n",
    "y_pred = model.predict(X_test)\n",
    "mae = mean_absolute_error(y_test, y_pred)\n",
    "\n",
    "# Save results\n",
    "rfm['PredictedCLV'] = model.predict(rfm[['Recency', 'Frequency', 'Tenure']])\n",
    "\n",
    "# Output\n",
    "output_path = \"CLV_Prediction.csv\"\n",
    "rfm.to_csv(output_path, index=False)\n",
    "\n",
    "output_path, mae\n",
    "\n"
   ]
  }
 ],
 "metadata": {
  "kaggle": {
   "accelerator": "none",
   "dataSources": [
    {
     "datasetId": 421200,
     "sourceId": 804181,
     "sourceType": "datasetVersion"
    }
   ],
   "dockerImageVersionId": 31040,
   "isGpuEnabled": false,
   "isInternetEnabled": true,
   "language": "python",
   "sourceType": "notebook"
  },
  "kernelspec": {
   "display_name": "Python 3",
   "language": "python",
   "name": "python3"
  },
  "language_info": {
   "codemirror_mode": {
    "name": "ipython",
    "version": 3
   },
   "file_extension": ".py",
   "mimetype": "text/x-python",
   "name": "python",
   "nbconvert_exporter": "python",
   "pygments_lexer": "ipython3",
   "version": "3.11.11"
  },
  "papermill": {
   "default_parameters": {},
   "duration": 61.376486,
   "end_time": "2025-06-04T04:11:03.122031",
   "environment_variables": {},
   "exception": null,
   "input_path": "__notebook__.ipynb",
   "output_path": "__notebook__.ipynb",
   "parameters": {},
   "start_time": "2025-06-04T04:10:01.745545",
   "version": "2.6.0"
  }
 },
 "nbformat": 4,
 "nbformat_minor": 5
}
