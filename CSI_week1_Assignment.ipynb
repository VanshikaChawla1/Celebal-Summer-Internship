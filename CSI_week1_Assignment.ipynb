{
  "nbformat": 4,
  "nbformat_minor": 0,
  "metadata": {
    "colab": {
      "provenance": []
    },
    "kernelspec": {
      "name": "python3",
      "display_name": "Python 3"
    },
    "language_info": {
      "name": "python"
    }
  },
  "cells": [
    {
      "cell_type": "markdown",
      "source": [
        "Lower Triangular Pattern"
      ],
      "metadata": {
        "id": "Z-2jF6cjdU1D"
      }
    },
    {
      "cell_type": "code",
      "execution_count": 5,
      "metadata": {
        "colab": {
          "base_uri": "https://localhost:8080/"
        },
        "id": "CfuzhHIGdOdj",
        "outputId": "581a6983-27b5-44a2-fcaa-3df34b96fe07"
      },
      "outputs": [
        {
          "output_type": "stream",
          "name": "stdout",
          "text": [
            "Enter the number of rows for lower triangular pattern:5\n",
            "*\n",
            "**\n",
            "***\n",
            "****\n",
            "*****\n"
          ]
        }
      ],
      "source": [
        "l=int(input(\"Enter the number of rows for lower triangular pattern:\"))\n",
        "for i in range(1,l+1):\n",
        "  print(\"*\"*i)"
      ]
    },
    {
      "cell_type": "markdown",
      "source": [
        "Upper Triangular Pattern"
      ],
      "metadata": {
        "id": "Mqg0q-sEdUCK"
      }
    },
    {
      "cell_type": "code",
      "source": [
        "u=int(input(\"Enter the number of rows for upper triangular pattern:\"))\n",
        "for i in range(u,0,-1):\n",
        "  print(\" \"*(u-i)+\"*\"*i)"
      ],
      "metadata": {
        "colab": {
          "base_uri": "https://localhost:8080/"
        },
        "id": "HItBGrkMeAEw",
        "outputId": "cd7316e4-6e6d-4ceb-e9b8-133bbca32266"
      },
      "execution_count": 6,
      "outputs": [
        {
          "output_type": "stream",
          "name": "stdout",
          "text": [
            "Enter the number of rows for upper triangular pattern:6\n",
            "******\n",
            " *****\n",
            "  ****\n",
            "   ***\n",
            "    **\n",
            "     *\n"
          ]
        }
      ]
    },
    {
      "cell_type": "markdown",
      "source": [
        "Pyramid Pattern"
      ],
      "metadata": {
        "id": "DVYdfmgaenAi"
      }
    },
    {
      "cell_type": "code",
      "source": [
        "p=int(input(\"Enter the number of rows for pyramid pattern:\"))\n",
        "for i in range(1, p + 1):\n",
        "    print(\" \" * (p - i) + \"*\" * (2 * i - 1))"
      ],
      "metadata": {
        "colab": {
          "base_uri": "https://localhost:8080/"
        },
        "id": "qrzP60COeryo",
        "outputId": "997f1978-3cc2-419e-e309-53fbefd8bf54"
      },
      "execution_count": 7,
      "outputs": [
        {
          "output_type": "stream",
          "name": "stdout",
          "text": [
            "Enter the number of rows for pyramid pattern:7\n",
            "      *\n",
            "     ***\n",
            "    *****\n",
            "   *******\n",
            "  *********\n",
            " ***********\n",
            "*************\n"
          ]
        }
      ]
    }
  ]
}